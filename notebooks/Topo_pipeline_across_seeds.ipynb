{
 "cells": [
  {
   "cell_type": "code",
   "execution_count": 1,
   "metadata": {},
   "outputs": [],
   "source": [
    "import assemblyfire \n",
    "from assemblyfire.topology import simplex_counts_consensus, simplex_counts_union, simplex_counts_core,\\\n",
    "simplex_counts_intersection, simplex_counts_core_vs_intersection\n"
   ]
  },
  {
   "cell_type": "code",
   "execution_count": 2,
   "metadata": {},
   "outputs": [],
   "source": [
    "#Load consensus assembly\n",
    "fn=\"/Users/egassant/Documents/plasticity.nosync/assemblies_simmat.h5\"\n",
    "\n",
    "#Load consensus assembly\n",
    "consensus_assemblies, _ = assemblyfire.utils.load_consensus_assemblies_from_h5(fn, prefix=\"consensus\")"
   ]
  },
  {
   "cell_type": "code",
   "execution_count": 3,
   "metadata": {},
   "outputs": [],
   "source": [
    "#Load very basic connectivity matrix and gids just for testing.  This can be ignored and extracted directly from the fn\n",
    "import numpy as np\n",
    "import pandas as pd\n",
    "path_matrix=\"/Users/egassant/Documents/plasticity.nosync/matrix_O1/\"\n",
    "circuit=\"O1\"\n",
    "column=2\n",
    "mat=np.load(path_matrix+\"matrix_{0}_col{1}.npy\".format(circuit,column))\n",
    "neuron_data=pd.read_pickle(path_matrix+\"neuron_data_{0}_col{1}\".format(circuit,column))\n",
    "all_gids=neuron_data.index\n",
    "depths=None\n",
    "mtypes=None\n",
    "network=assemblyfire.NetworkAssembly(mat,all_gids,depths,mtypes)"
   ]
  },
  {
   "cell_type": "markdown",
   "metadata": {},
   "source": [
    "# Computing simplex counts and plotting"
   ]
  },
  {
   "cell_type": "markdown",
   "metadata": {},
   "source": [
    "### Simplex counts by cluster vs. average random control"
   ]
  },
  {
   "cell_type": "code",
   "execution_count": null,
   "metadata": {
    "scrolled": false
   },
   "outputs": [],
   "source": [
    "%matplotlib inline\n",
    "simplex_counts,controls=simplex_counts_consensus(consensus_assemblies,network)\n",
    "assemblyfire.plots.plot_simplex_counts(simplex_counts, [controls],[\"Average random control\"])\n",
    "#Add save_fig=True, path_fig=path to parameters to save figure to path"
   ]
  },
  {
   "cell_type": "markdown",
   "metadata": {},
   "source": [
    "### Union vs. random control "
   ]
  },
  {
   "cell_type": "code",
   "execution_count": null,
   "metadata": {
    "scrolled": false
   },
   "outputs": [],
   "source": [
    "%matplotlib inline \n",
    "simplex_counts,controls=simplex_counts_union(consensus_assemblies,network)\n",
    "assemblyfire.plots.plot_simplex_counts(simplex_counts, [controls],[\"Random control\"], title=\"Simplex counts union\")\n",
    "#Add save_fig=True, path_fig=path to parameters to save figure to path\n"
   ]
  },
  {
   "cell_type": "markdown",
   "metadata": {},
   "source": [
    "### Core vs. random control within union "
   ]
  },
  {
   "cell_type": "code",
   "execution_count": null,
   "metadata": {
    "scrolled": false
   },
   "outputs": [],
   "source": [
    "%matplotlib inline \n",
    "simplex_counts,controls=simplex_counts_core(consensus_assemblies,network)\n",
    "assemblyfire.plots.plot_simplex_counts(simplex_counts, [controls],[\"Random control\"], title=\"Simplex counts core\")\n",
    "#Add save_fig=True, path_fig=path to parameters to save figure to path"
   ]
  },
  {
   "cell_type": "markdown",
   "metadata": {},
   "source": [
    "### Intersection vs. random control within union "
   ]
  },
  {
   "cell_type": "code",
   "execution_count": null,
   "metadata": {
    "scrolled": false
   },
   "outputs": [],
   "source": [
    "%matplotlib inline \n",
    "simplex_counts,controls=simplex_counts_intersection(consensus_assemblies,network)\n",
    "assemblyfire.plots.plot_simplex_counts(simplex_counts, [controls],[\"Random control\"], title=\"Simplex counts intersection\")\n",
    "#Add save_fig=True, path_fig=path to parameters to save figure to path"
   ]
  },
  {
   "cell_type": "markdown",
   "metadata": {},
   "source": [
    "### Core vs. Intersection "
   ]
  },
  {
   "cell_type": "code",
   "execution_count": null,
   "metadata": {},
   "outputs": [],
   "source": [
    "%matplotlib inline \n",
    "simplex_counts_core,simplex_counts_intersection=simplex_counts_core_vs_intersection(consensus_assemblies,network)\n",
    "assemblyfire.plots.plot_simplex_counts(simplex_counts_core, [simplex_counts_intersection],[\"Intersection\"], title=\"Simplex counts core vs. intersection\")\n",
    "#Add save_fig=True, path_fig=path to parameters to save figure to path"
   ]
  }
 ],
 "metadata": {
  "kernelspec": {
   "display_name": "Python 3",
   "language": "python",
   "name": "python3"
  },
  "language_info": {
   "codemirror_mode": {
    "name": "ipython",
    "version": 3
   },
   "file_extension": ".py",
   "mimetype": "text/x-python",
   "name": "python",
   "nbconvert_exporter": "python",
   "pygments_lexer": "ipython3",
   "version": "3.7.9"
  }
 },
 "nbformat": 4,
 "nbformat_minor": 4
}
